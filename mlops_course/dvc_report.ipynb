{
 "cells": [
  {
   "cell_type": "markdown",
   "metadata": {},
   "source": [
    "# Report of DVC task\n",
    "This task comleted in branch [dvc](https://gitlab.com/ivan_golt/mlops_course/-/tree/dvc)\n",
    "\n",
    "In this task fitting model for predict label (\"toxic\": 1, \"non_toxic\": 0) of comments in \"Datashop\" site.\n",
    "For fitting have been choosen two 1) Logistic Regression, 2) Catboost"
   ]
  },
  {
   "cell_type": "markdown",
   "metadata": {},
   "source": [
    "## Pipeline\n",
    "Pipeline consist the next stages:\n",
    "1) data_preprocessing\n",
    "2) splitting_data\n",
    "3) tf_idf fitting\n",
    "4) training ml model\n",
    "5) testing model\n",
    "\n",
    "All stages desribe in [dvc.yaml](https://gitlab.com/ivan_golt/mlops_course/-/blob/dvc/dvc.yaml)\n",
    "\n",
    "Also using initializing parameters of models with dvc.api [params.yaml](https://gitlab.com/ivan_golt/mlops_course/-/blob/dvc/params.yaml)"
   ]
  },
  {
   "cell_type": "markdown",
   "metadata": {},
   "source": [
    "## DVC Storage Preparation\n",
    "\n",
    "dvc init:\n",
    "`dvc init`\\\n",
    "`dvc remote add -d --project gdrive gdrive://<URL>`\n",
    "`dvc config core.autostage true`\n",
    "\n",
    "dvc init:\n",
    "`dvc init`\\\n",
    "`dvc remote add -d --project gdrive gdrive://<URL>`\n",
    "\n",
    "dvc remote sending:\n",
    "\n",
    "`dvc add data\\dvc_data\\raw_data\\data.csv`\\\n",
    "`dvc push`\n",
    "\n",
    "running dvc stage:\n",
    "\n",
    "`dvc repro` \n",
    "`dvc repro <STAGE_NAME>`\n"
   ]
  },
  {
   "cell_type": "markdown",
   "metadata": {},
   "source": [
    "## DVC API"
   ]
  },
  {
   "cell_type": "code",
   "execution_count": null,
   "metadata": {},
   "outputs": [],
   "source": [
    "path = \"dvc_artifacts/summary.json\"\n",
    "remote_name = \"dvc_dz\"\n",
    "repo = \"https://gitlab.com/ivan_golt/mlops_course/-/tree/dvc?ref_type=heads\"\n",
    "log_reg_commit = \"fea1ad3e\"\n",
    "catboost_commit = \"f55871eb\"\n"
   ]
  },
  {
   "cell_type": "code",
   "execution_count": 19,
   "metadata": {},
   "outputs": [],
   "source": [
    "import json\n",
    "\n",
    "import pandas as pd\n",
    "from dvc import api\n",
    "\n",
    "\n",
    "def get_summary(commit: str, file: str = \"/dvc_artifacts/summary.json\") -> pd.DataFrame:\n",
    "    fs = api.DVCFileSystem(rev=commit)\n",
    "    data_json = fs.read_text(file, encoding=\"utf-8\")\n",
    "    data = json.loads(data_json)\n",
    "    data_flatten = data\n",
    "    return pd.DataFrame(data_flatten)\n"
   ]
  },
  {
   "cell_type": "markdown",
   "metadata": {},
   "source": [
    "## Logistic Regression metrics and Catboost metrics"
   ]
  },
  {
   "cell_type": "code",
   "execution_count": 35,
   "metadata": {},
   "outputs": [
    {
     "name": "stdout",
     "output_type": "stream",
     "text": [
      "Logistic Regression model\n",
      "                     0           1  accuracy    macro avg  weighted avg\n",
      "precision      0.95851     0.93242   0.95675      0.94547       0.95586\n",
      "recall         0.99492     0.61944   0.95675      0.80718       0.95675\n",
      "f1-score       0.97637     0.74437   0.95675      0.86037       0.95279\n",
      "support    42909.00000  4856.00000   0.95675  47765.00000   47765.00000\n",
      "\n",
      "Catboost model\n",
      "                     0           1  accuracy    macro avg  weighted avg\n",
      "precision      0.95166     0.78598   0.93968      0.86882       0.93482\n",
      "recall         0.98278     0.55890   0.93968      0.77084       0.93968\n",
      "f1-score       0.96697     0.65327   0.93968      0.81012       0.93508\n",
      "support    42909.00000  4856.00000   0.93968  47765.00000   47765.00000\n"
     ]
    }
   ],
   "source": [
    "print(\"Logistic Regression model\")\n",
    "print(get_summary(commit=log_reg_commit))\n",
    "print()\n",
    "print(\"Catboost model\")\n",
    "print(get_summary(commit=catboost_commit))\n"
   ]
  }
 ],
 "metadata": {
  "kernelspec": {
   "display_name": ".venv",
   "language": "python",
   "name": "python3"
  },
  "language_info": {
   "codemirror_mode": {
    "name": "ipython",
    "version": 3
   },
   "file_extension": ".py",
   "mimetype": "text/x-python",
   "name": "python",
   "nbconvert_exporter": "python",
   "pygments_lexer": "ipython3",
   "version": "3.11.8"
  }
 },
 "nbformat": 4,
 "nbformat_minor": 2
}
