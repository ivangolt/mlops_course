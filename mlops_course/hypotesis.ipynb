{
 "cells": [
  {
   "cell_type": "code",
   "execution_count": 2,
   "metadata": {},
   "outputs": [],
   "source": [
    "import numpy as np\n"
   ]
  },
  {
   "cell_type": "markdown",
   "metadata": {},
   "source": [
    "Проведем теститрование функции smape , которая вычисляет метрику smape по формуле"
   ]
  },
  {
   "attachments": {
    "image.png": {
     "image/png": "[encoded data removed]"
    }
   },
   "cell_type": "markdown",
   "metadata": {},
   "source": [
    "![image.png](attachment:image.png)"
   ]
  },
  {
   "cell_type": "markdown",
   "metadata": {},
   "source": [
    "# Текущая реализация функции"
   ]
  },
  {
   "cell_type": "code",
   "execution_count": 32,
   "metadata": {},
   "outputs": [],
   "source": [
    "def smape(true: list, pred: list) -> float:\n",
    "    \"\"\"\n",
    "    Calculate SMAPE.\n",
    "\n",
    "    Parameters\n",
    "    ----------\n",
    "    true : list\n",
    "        True labels\n",
    "    pred : list\n",
    "        Prediction values\n",
    "\n",
    "    Returns\n",
    "    -------\n",
    "    float\n",
    "        SMAPE metric\n",
    "    \"\"\"\n",
    "    numerator = 0\n",
    "    denominator = 0\n",
    "\n",
    "    for i in range(len(true)):\n",
    "        numerator += abs(true[i] - pred[i])\n",
    "        denominator += abs(true[i]) + abs(pred[i])\n",
    "\n",
    "    return 2 * numerator / denominator * 100\n"
   ]
  },
  {
   "cell_type": "markdown",
   "metadata": {},
   "source": [
    "Функция принимает на входе два массива  и на выходе вычисляет метрику SMAPE.\n",
    "\n",
    "Пример:"
   ]
  },
  {
   "cell_type": "code",
   "execution_count": 34,
   "metadata": {},
   "outputs": [
    {
     "name": "stdout",
     "output_type": "stream",
     "text": [
      "67.82608695652173\n"
     ]
    }
   ],
   "source": [
    "a = np.array((0, 1, 2, 3, 4, 5, 6, 7, 8, 9))\n",
    "b = np.array((0, 2, 4, 5, 7, 8, 9, 0, 12, 23))\n",
    "print(smape(a, b))\n"
   ]
  },
  {
   "cell_type": "markdown",
   "metadata": {},
   "source": [
    "# Тестовая функция в Hypotesis"
   ]
  },
  {
   "cell_type": "code",
   "execution_count": 12,
   "metadata": {},
   "outputs": [],
   "source": [
    "import numpy as np\n",
    "from hypothesis import given\n",
    "from hypothesis.extra import numpy\n",
    "from hypothesis.strategies import integers\n"
   ]
  },
  {
   "cell_type": "code",
   "execution_count": 35,
   "metadata": {},
   "outputs": [],
   "source": [
    "size = integers(min_value=0, max_value=10)\n",
    "\n",
    "\n",
    "@given(\n",
    "    true=numpy.arrays(dtype=np.float32, shape=size),\n",
    "    predict=numpy.arrays(dtype=np.float32, shape=size),\n",
    ")\n",
    "def test_smape(true, predict):\n",
    "    smape_metric = smape(true, predict)\n",
    "    assert not np.isnan(smape_metric)\n"
   ]
  },
  {
   "cell_type": "markdown",
   "metadata": {},
   "source": [
    " short test summary info \\\n",
    "FAILED test_smape.py::test_smape - ZeroDivisionError: division by zero\n",
    "\n",
    "\n",
    "Нужно предусмотреть для функции  обработку нулевых значений"
   ]
  },
  {
   "cell_type": "markdown",
   "metadata": {},
   "source": [
    "Реализуем функцию с учетом  тестов"
   ]
  },
  {
   "cell_type": "code",
   "execution_count": 38,
   "metadata": {},
   "outputs": [],
   "source": [
    "def smape(true: list, pred: list) -> float:\n",
    "    \"\"\"\n",
    "    Calculate SMAPE.\n",
    "\n",
    "    Parameters\n",
    "    ----------\n",
    "    true : list\n",
    "        True labels\n",
    "    pred : list\n",
    "        Prediction values\n",
    "\n",
    "    Returns\n",
    "    -------\n",
    "    float\n",
    "        SMAPE metric\n",
    "    \"\"\"\n",
    "    numerator = 0\n",
    "    denominator = 0\n",
    "    count = 0\n",
    "\n",
    "    for t, p in zip(true, pred, strict=False):\n",
    "        if t is not None and p is not None:\n",
    "            numerator += abs(t - p)\n",
    "            denominator += abs(t) + abs(p)\n",
    "            count += 1\n",
    "\n",
    "    if denominator == 0:\n",
    "        return 0.0\n",
    "\n",
    "    return 2 * numerator / denominator * 100\n"
   ]
  },
  {
   "cell_type": "markdown",
   "metadata": {},
   "source": [
    "В новой реализации функция учитывает обработку нулевых значений в массивах предсказанных и реальных значений"
   ]
  },
  {
   "cell_type": "markdown",
   "metadata": {},
   "source": [
    "# Функция oracle тестрования"
   ]
  },
  {
   "cell_type": "code",
   "execution_count": null,
   "metadata": {},
   "outputs": [],
   "source": [
    "@given(\n",
    "    true=numpy.arrays(dtype=np.float32, shape=size),\n",
    "    pred=numpy.arrays(dtype=np.float32, shape=size),\n",
    ")\n",
    "def test_wape_oracle(true, predict):\n",
    "    wape_metric = smape(true, predict)\n",
    "    wape_metric_old = smape_old(true, predict)\n",
    "    assert np.isclose(wape_metric, wape_metric_old)\n"
   ]
  },
  {
   "cell_type": "markdown",
   "metadata": {},
   "source": [
    "На этапе oracle тестирования, тест показывает, что для первой функции не выполнено условие деления на ноль"
   ]
  },
  {
   "cell_type": "code",
   "execution_count": null,
   "metadata": {},
   "outputs": [],
   "source": []
  }
 ],
 "metadata": {
  "kernelspec": {
   "display_name": ".venv",
   "language": "python",
   "name": "python3"
  },
  "language_info": {
   "codemirror_mode": {
    "name": "ipython",
    "version": 3
   },
   "file_extension": ".py",
   "mimetype": "text/x-python",
   "name": "python",
   "nbconvert_exporter": "python",
   "pygments_lexer": "ipython3",
   "version": "3.11.8"
  }
 },
 "nbformat": 4,
 "nbformat_minor": 2
}
