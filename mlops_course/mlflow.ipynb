{
 "cells": [
  {
   "cell_type": "code",
   "execution_count": 1,
   "metadata": {},
   "outputs": [],
   "source": [
    "import os\n",
    "import re\n",
    "\n",
    "import nltk\n",
    "import numpy as np\n",
    "import polars as pl\n",
    "from catboost import CatBoostClassifier\n",
    "from matplotlib import pyplot as plt\n",
    "from matplotlib.figure import Figure\n",
    "from nltk.corpus import stopwords\n",
    "from nltk.stem import WordNetLemmatizer\n",
    "from sklearn.feature_extraction.text import TfidfVectorizer\n",
    "from sklearn.linear_model import LogisticRegression\n",
    "from sklearn.metrics import (\n",
    "    ConfusionMatrixDisplay,\n",
    "    accuracy_score,\n",
    "    precision_score,\n",
    "    recall_score,\n",
    "    roc_auc_score,\n",
    ")\n",
    "from sklearn.model_selection import train_test_split\n",
    "\n",
    "import mlflow"
   ]
  },
  {
   "cell_type": "code",
   "execution_count": 2,
   "metadata": {},
   "outputs": [
    {
     "name": "stderr",
     "output_type": "stream",
     "text": [
      "[nltk_data] Downloading package averaged_perceptron_tagger to\n",
      "[nltk_data]     C:\\Users\\Иван\\AppData\\Roaming\\nltk_data...\n",
      "[nltk_data]   Package averaged_perceptron_tagger is already up-to-\n",
      "[nltk_data]       date!\n",
      "[nltk_data] Downloading package punkt to\n",
      "[nltk_data]     C:\\Users\\Иван\\AppData\\Roaming\\nltk_data...\n",
      "[nltk_data]   Package punkt is already up-to-date!\n",
      "[nltk_data] Downloading package wordnet to\n",
      "[nltk_data]     C:\\Users\\Иван\\AppData\\Roaming\\nltk_data...\n",
      "[nltk_data]   Package wordnet is already up-to-date!\n",
      "[nltk_data] Downloading package omw-1.4 to\n",
      "[nltk_data]     C:\\Users\\Иван\\AppData\\Roaming\\nltk_data...\n",
      "[nltk_data]   Package omw-1.4 is already up-to-date!\n",
      "[nltk_data] Downloading package stopwords to\n",
      "[nltk_data]     C:\\Users\\Иван\\AppData\\Roaming\\nltk_data...\n",
      "[nltk_data]   Package stopwords is already up-to-date!\n"
     ]
    },
    {
     "data": {
      "text/plain": [
       "True"
      ]
     },
     "execution_count": 2,
     "metadata": {},
     "output_type": "execute_result"
    }
   ],
   "source": [
    "nltk.download(\"averaged_perceptron_tagger\")\n",
    "nltk.download(\"punkt\")\n",
    "nltk.download(\"wordnet\")\n",
    "nltk.download(\"omw-1.4\")\n",
    "nltk.download(\"stopwords\")"
   ]
  },
  {
   "cell_type": "code",
   "execution_count": 3,
   "metadata": {},
   "outputs": [],
   "source": [
    "# Default url for MLFlow is \"http://localhost:5000\"\n",
    "MLFLOW_TRACKING_URI = \"http://localhost:5000\"\n",
    "DATASET_PATH = \"../data/mlflow_data/toxic_comments.csv\"\n",
    "RANDOM_STATE = 42\n",
    "N_JOBS = -1"
   ]
  },
  {
   "cell_type": "code",
   "execution_count": 4,
   "metadata": {},
   "outputs": [],
   "source": [
    "os.environ[\"AWS_ACCESS_KEY_ID\"] = \"mlflow\"\n",
    "os.environ[\"AWS_SECRET_ACCESS_KEY\"] = \"password\"\n",
    "os.environ[\"MLFLOW_S3_ENDPOINT_URL\"] = \"http://127.0.0.1:9000\""
   ]
  },
  {
   "cell_type": "code",
   "execution_count": 5,
   "metadata": {},
   "outputs": [
    {
     "name": "stdout",
     "output_type": "stream",
     "text": [
      "[<Experiment: artifact_location='file:///c:/dev/mlops_course/mlops_course/mlruns/0', creation_time=1715879720338, experiment_id='0', last_update_time=1715879720338, lifecycle_stage='active', name='Default', tags={}>]\n"
     ]
    }
   ],
   "source": [
    "experiments = mlflow.search_experiments()\n",
    "print(experiments)"
   ]
  },
  {
   "cell_type": "code",
   "execution_count": 6,
   "metadata": {},
   "outputs": [
    {
     "data": {
      "text/html": [
       "<div><style>\n",
       ".dataframe > thead > tr,\n",
       ".dataframe > tbody > tr {\n",
       "  text-align: right;\n",
       "  white-space: pre-wrap;\n",
       "}\n",
       "</style>\n",
       "<small>shape: (3, 3)</small><table border=\"1\" class=\"dataframe\"><thead><tr><th></th><th>text</th><th>toxic</th></tr><tr><td>i64</td><td>str</td><td>i64</td></tr></thead><tbody><tr><td>0</td><td>&quot;Explanation\n",
       "Why the edits made under my username Hardcore Metallica Fan were reverted? They weren&#x27;t …</td><td>0</td></tr><tr><td>1</td><td>&quot;D&#x27;aww! He matches this background colour I&#x27;m seemingly stuck with. Thanks.  (talk) 21:51, January 11…</td><td>0</td></tr><tr><td>2</td><td>&quot;Hey man, I&#x27;m really not trying to edit war. It&#x27;s just that this guy is constantly removing relevant …</td><td>0</td></tr></tbody></table></div>"
      ],
      "text/plain": [
       "shape: (3, 3)\n",
       "┌─────┬────────────────────────────────────────────────────────────────────────────────────┬───────┐\n",
       "│     ┆ text                                                                               ┆ toxic │\n",
       "│ --- ┆ ---                                                                                ┆ ---   │\n",
       "│ i64 ┆ str                                                                                ┆ i64   │\n",
       "╞═════╪════════════════════════════════════════════════════════════════════════════════════╪═══════╡\n",
       "│ 0   ┆ Explanation                                                                        ┆ 0     │\n",
       "│     ┆ Why the edits made under my username Hardcore Metallica Fan were reverted? They    ┆       │\n",
       "│     ┆ weren't …                                                                          ┆       │\n",
       "│ 1   ┆ D'aww! He matches this background colour I'm seemingly stuck with. Thanks.  (talk) ┆ 0     │\n",
       "│     ┆ 21:51, January 11…                                                                 ┆       │\n",
       "│ 2   ┆ Hey man, I'm really not trying to edit war. It's just that this guy is constantly  ┆ 0     │\n",
       "│     ┆ removing relevant …                                                                ┆       │\n",
       "└─────┴────────────────────────────────────────────────────────────────────────────────────┴───────┘"
      ]
     },
     "execution_count": 6,
     "metadata": {},
     "output_type": "execute_result"
    }
   ],
   "source": [
    "df = pl.read_csv(DATASET_PATH, n_rows=50000)\n",
    "pl.Config.set_fmt_str_lengths(100)\n",
    "df.head(3)"
   ]
  },
  {
   "cell_type": "code",
   "execution_count": 7,
   "metadata": {},
   "outputs": [
    {
     "name": "stderr",
     "output_type": "stream",
     "text": [
      "sys:1: MapWithoutReturnDtypeWarning: Calling `map_elements` without specifying `return_dtype` can lead to unpredictable results. Specify `return_dtype` to silence this warning.\n"
     ]
    },
    {
     "data": {
      "text/html": [
       "<div><style>\n",
       ".dataframe > thead > tr,\n",
       ".dataframe > tbody > tr {\n",
       "  text-align: right;\n",
       "  white-space: pre-wrap;\n",
       "}\n",
       "</style>\n",
       "<small>shape: (5, 4)</small><table border=\"1\" class=\"dataframe\"><thead><tr><th></th><th>text</th><th>toxic</th><th>corpus</th></tr><tr><td>i64</td><td>str</td><td>i64</td><td>list[str]</td></tr></thead><tbody><tr><td>0</td><td>&quot;Explanation\n",
       "Why the edits made under my username Hardcore Metallica Fan were reverted? They weren&#x27;t …</td><td>0</td><td>[&quot;explanation&quot;, &quot;edits&quot;, … &quot;retired&quot;]</td></tr><tr><td>1</td><td>&quot;D&#x27;aww! He matches this background colour I&#x27;m seemingly stuck with. Thanks.  (talk) 21:51, January 11…</td><td>0</td><td>[&quot;daww&quot;, &quot;matches&quot;, … &quot;utc&quot;]</td></tr><tr><td>2</td><td>&quot;Hey man, I&#x27;m really not trying to edit war. It&#x27;s just that this guy is constantly removing relevant …</td><td>0</td><td>[&quot;hey&quot;, &quot;man&quot;, … &quot;info&quot;]</td></tr><tr><td>3</td><td>&quot;&quot;\n",
       "More\n",
       "I can&#x27;t make any real suggestions on improvement - I wondered if the section statistics shoul…</td><td>0</td><td>[&quot;cant&quot;, &quot;make&quot;, … &quot;wikipediagoodarticlenominationstransport&quot;]</td></tr><tr><td>4</td><td>&quot;You, sir, are my hero. Any chance you remember what page that&#x27;s on?&quot;</td><td>0</td><td>[&quot;sir&quot;, &quot;hero&quot;, … &quot;thats&quot;]</td></tr></tbody></table></div>"
      ],
      "text/plain": [
       "shape: (5, 4)\n",
       "┌─────┬──────────────────────────────────────────┬───────┬─────────────────────────────────────────┐\n",
       "│     ┆ text                                     ┆ toxic ┆ corpus                                  │\n",
       "│ --- ┆ ---                                      ┆ ---   ┆ ---                                     │\n",
       "│ i64 ┆ str                                      ┆ i64   ┆ list[str]                               │\n",
       "╞═════╪══════════════════════════════════════════╪═══════╪═════════════════════════════════════════╡\n",
       "│ 0   ┆ Explanation                              ┆ 0     ┆ [\"explanation\", \"edits\", … \"retired\"]   │\n",
       "│     ┆ Why the edits made under my username     ┆       ┆                                         │\n",
       "│     ┆ Hardcore Metallica Fan were reverted?    ┆       ┆                                         │\n",
       "│     ┆ They weren't …                           ┆       ┆                                         │\n",
       "│ 1   ┆ D'aww! He matches this background colour ┆ 0     ┆ [\"daww\", \"matches\", … \"utc\"]            │\n",
       "│     ┆ I'm seemingly stuck with. Thanks.        ┆       ┆                                         │\n",
       "│     ┆ (talk) 21:51, January 11…                ┆       ┆                                         │\n",
       "│ 2   ┆ Hey man, I'm really not trying to edit   ┆ 0     ┆ [\"hey\", \"man\", … \"info\"]                │\n",
       "│     ┆ war. It's just that this guy is          ┆       ┆                                         │\n",
       "│     ┆ constantly removing relevant …           ┆       ┆                                         │\n",
       "│ 3   ┆ \"                                        ┆ 0     ┆ [\"cant\", \"make\", … \"wikipediagoodarticl │\n",
       "│     ┆ More                                     ┆       ┆ enominationstransport\"]                 │\n",
       "│     ┆ I can't make any real suggestions on     ┆       ┆                                         │\n",
       "│     ┆ improvement - I wondered if the section  ┆       ┆                                         │\n",
       "│     ┆ statistics shoul…                        ┆       ┆                                         │\n",
       "│ 4   ┆ You, sir, are my hero. Any chance you    ┆ 0     ┆ [\"sir\", \"hero\", … \"thats\"]              │\n",
       "│     ┆ remember what page that's on?            ┆       ┆                                         │\n",
       "└─────┴──────────────────────────────────────────┴───────┴─────────────────────────────────────────┘"
      ]
     },
     "execution_count": 7,
     "metadata": {},
     "output_type": "execute_result"
    }
   ],
   "source": [
    "# Compile templates for re expressions\n",
    "stop_words = set(stopwords.words(\"english\"))\n",
    "url_pattern = re.compile(r\"https?://\\S+|www\\.\\S+|\\[.*?\\]|[^a-zA-Z\\s]+|\\w*\\d\\w*\")\n",
    "spec_chars_pattern = re.compile(\"[0-9 \\-_]+\")\n",
    "non_alpha_pattern = re.compile(\"[^a-z A-Z]+\")\n",
    "\n",
    "\n",
    "def text_preprocessing(input_text: str) -> str:\n",
    "    text = input_text.lower()\n",
    "    text = url_pattern.sub(\"\", text)\n",
    "    text = spec_chars_pattern.sub(\" \", text)\n",
    "    text = non_alpha_pattern.sub(\" \", text)\n",
    "    text = \" \".join(word for word in text.split() if word not in stop_words)\n",
    "    return text.strip()\n",
    "\n",
    "\n",
    "df = df.with_columns(pl.col(\"text\").map_elements(text_preprocessing).str.split(\" \").alias(\"corpus\"))\n",
    "\n",
    "df.head(5)"
   ]
  },
  {
   "cell_type": "code",
   "execution_count": 8,
   "metadata": {},
   "outputs": [
    {
     "name": "stderr",
     "output_type": "stream",
     "text": [
      "C:\\Users\\Иван\\AppData\\Local\\Temp\\ipykernel_27136\\3308074898.py:4: MapWithoutReturnDtypeWarning: Calling `map_elements` without specifying `return_dtype` can lead to unpredictable results. Specify `return_dtype` to silence this warning.\n",
      "  return input_frame.with_columns(\n"
     ]
    },
    {
     "data": {
      "text/html": [
       "<div><style>\n",
       ".dataframe > thead > tr,\n",
       ".dataframe > tbody > tr {\n",
       "  text-align: right;\n",
       "  white-space: pre-wrap;\n",
       "}\n",
       "</style>\n",
       "<small>shape: (5, 4)</small><table border=\"1\" class=\"dataframe\"><thead><tr><th></th><th>text</th><th>toxic</th><th>corpus</th></tr><tr><td>i64</td><td>str</td><td>i64</td><td>list[str]</td></tr></thead><tbody><tr><td>0</td><td>&quot;Explanation\n",
       "Why the edits made under my username Hardcore Metallica Fan were reverted? They weren&#x27;t …</td><td>0</td><td>[&quot;explanation&quot;, &quot;edits&quot;, … &quot;retired&quot;]</td></tr><tr><td>1</td><td>&quot;D&#x27;aww! He matches this background colour I&#x27;m seemingly stuck with. Thanks.  (talk) 21:51, January 11…</td><td>0</td><td>[&quot;daww&quot;, &quot;match&quot;, … &quot;utc&quot;]</td></tr><tr><td>2</td><td>&quot;Hey man, I&#x27;m really not trying to edit war. It&#x27;s just that this guy is constantly removing relevant …</td><td>0</td><td>[&quot;hey&quot;, &quot;man&quot;, … &quot;info&quot;]</td></tr><tr><td>3</td><td>&quot;&quot;\n",
       "More\n",
       "I can&#x27;t make any real suggestions on improvement - I wondered if the section statistics shoul…</td><td>0</td><td>[&quot;cant&quot;, &quot;make&quot;, … &quot;wikipediagoodarticlenominationstransport&quot;]</td></tr><tr><td>4</td><td>&quot;You, sir, are my hero. Any chance you remember what page that&#x27;s on?&quot;</td><td>0</td><td>[&quot;sir&quot;, &quot;hero&quot;, … &quot;thats&quot;]</td></tr></tbody></table></div>"
      ],
      "text/plain": [
       "shape: (5, 4)\n",
       "┌─────┬──────────────────────────────────────────┬───────┬─────────────────────────────────────────┐\n",
       "│     ┆ text                                     ┆ toxic ┆ corpus                                  │\n",
       "│ --- ┆ ---                                      ┆ ---   ┆ ---                                     │\n",
       "│ i64 ┆ str                                      ┆ i64   ┆ list[str]                               │\n",
       "╞═════╪══════════════════════════════════════════╪═══════╪═════════════════════════════════════════╡\n",
       "│ 0   ┆ Explanation                              ┆ 0     ┆ [\"explanation\", \"edits\", … \"retired\"]   │\n",
       "│     ┆ Why the edits made under my username     ┆       ┆                                         │\n",
       "│     ┆ Hardcore Metallica Fan were reverted?    ┆       ┆                                         │\n",
       "│     ┆ They weren't …                           ┆       ┆                                         │\n",
       "│ 1   ┆ D'aww! He matches this background colour ┆ 0     ┆ [\"daww\", \"match\", … \"utc\"]              │\n",
       "│     ┆ I'm seemingly stuck with. Thanks.        ┆       ┆                                         │\n",
       "│     ┆ (talk) 21:51, January 11…                ┆       ┆                                         │\n",
       "│ 2   ┆ Hey man, I'm really not trying to edit   ┆ 0     ┆ [\"hey\", \"man\", … \"info\"]                │\n",
       "│     ┆ war. It's just that this guy is          ┆       ┆                                         │\n",
       "│     ┆ constantly removing relevant …           ┆       ┆                                         │\n",
       "│ 3   ┆ \"                                        ┆ 0     ┆ [\"cant\", \"make\", … \"wikipediagoodarticl │\n",
       "│     ┆ More                                     ┆       ┆ enominationstransport\"]                 │\n",
       "│     ┆ I can't make any real suggestions on     ┆       ┆                                         │\n",
       "│     ┆ improvement - I wondered if the section  ┆       ┆                                         │\n",
       "│     ┆ statistics shoul…                        ┆       ┆                                         │\n",
       "│ 4   ┆ You, sir, are my hero. Any chance you    ┆ 0     ┆ [\"sir\", \"hero\", … \"thats\"]              │\n",
       "│     ┆ remember what page that's on?            ┆       ┆                                         │\n",
       "└─────┴──────────────────────────────────────────┴───────┴─────────────────────────────────────────┘"
      ]
     },
     "execution_count": 8,
     "metadata": {},
     "output_type": "execute_result"
    }
   ],
   "source": [
    "def lemmatize(input_frame: pl.DataFrame) -> pl.DataFrame:\n",
    "    lemmatizer = WordNetLemmatizer()\n",
    "\n",
    "    return input_frame.with_columns(\n",
    "        pl.col(\"corpus\").map_elements(\n",
    "            lambda input_list: [lemmatizer.lemmatize(token) for token in input_list]\n",
    "        )\n",
    "    )\n",
    "\n",
    "\n",
    "df = lemmatize(df)\n",
    "df.head(5)"
   ]
  },
  {
   "cell_type": "code",
   "execution_count": 9,
   "metadata": {},
   "outputs": [],
   "source": [
    "tf_idf_params = {\"max_features\": 10000, \"analyzer\": \"word\"}\n",
    "\n",
    "tf_idf_vectorizer = TfidfVectorizer(**tf_idf_params)\n",
    "\n",
    "train, test = train_test_split(\n",
    "    df, test_size=0.25, random_state=RANDOM_STATE, stratify=df[\"toxic\"], shuffle=True\n",
    ")\n",
    "\n",
    "tf_idf_vectorizer.fit(train[\"corpus\"].to_pandas().astype(str))\n",
    "train_features = tf_idf_vectorizer.transform(train[\"corpus\"].to_pandas().astype(str))\n",
    "test_features = tf_idf_vectorizer.transform(test[\"corpus\"].to_pandas().astype(str))"
   ]
  },
  {
   "cell_type": "code",
   "execution_count": 10,
   "metadata": {},
   "outputs": [],
   "source": [
    "def conf_matrix(y_true: np.ndarray, pred: np.ndarray) -> Figure:\n",
    "    plt.ioff()\n",
    "    fig, ax = plt.subplots(figsize=(5, 5))\n",
    "    ConfusionMatrixDisplay.from_predictions(y_true, pred, ax=ax, colorbar=False)\n",
    "    ax.xaxis.set_tick_params(rotation=90)\n",
    "    _ = ax.set_title(\"Confusion Matrix\")\n",
    "    plt.tight_layout()\n",
    "    return fig"
   ]
  },
  {
   "cell_type": "code",
   "execution_count": 11,
   "metadata": {},
   "outputs": [],
   "source": [
    "mlflow.set_tracking_uri(MLFLOW_TRACKING_URI)\n",
    "embeddings_experiment = mlflow.set_experiment(\"TF_IDF\")"
   ]
  },
  {
   "cell_type": "code",
   "execution_count": 12,
   "metadata": {},
   "outputs": [
    {
     "data": {
      "image/png": "[encoded data removed]",
      "text/plain": [
       "<Figure size 500x500 with 1 Axes>"
      ]
     },
     "metadata": {},
     "output_type": "display_data"
    }
   ],
   "source": [
    "run_name = \"logistic_regression\"\n",
    "\n",
    "with mlflow.start_run(run_name=run_name) as run:\n",
    "    lr_model_params = {\n",
    "        \"multi_class\": \"multinomial\",\n",
    "        \"solver\": \"saga\",\n",
    "        \"random_state\": RANDOM_STATE,\n",
    "    }\n",
    "\n",
    "    model_lr = LogisticRegression(**lr_model_params)\n",
    "    model_lr.fit(train_features, train[\"toxic\"])\n",
    "    predicts = model_lr.predict(test_features)\n",
    "\n",
    "    metrics = {\n",
    "        \"accuracy\": accuracy_score(test[\"toxic\"], predicts),\n",
    "        \"recall\": recall_score(test[\"toxic\"], predicts),\n",
    "        \"precision\": precision_score(test[\"toxic\"], predicts),\n",
    "        \"roc_auc_score\": roc_auc_score(test[\"toxic\"], predicts),\n",
    "    }\n",
    "    for metric_name, metric_value in metrics.items():\n",
    "        mlflow.log_metric(metric_name, metric_value)\n",
    "\n",
    "    mlflow.sklearn.log_model(sk_model=model_lr, artifact_path=f\"mlflow/{run_name}/model\")\n",
    "\n",
    "    fig = conf_matrix(test[\"toxic\"], predicts)\n",
    "    mlflow.log_figure(figure=fig, artifact_file=f\"{run_name}_confusion_matrix.png\")"
   ]
  },
  {
   "cell_type": "code",
   "execution_count": 22,
   "metadata": {},
   "outputs": [
    {
     "name": "stderr",
     "output_type": "stream",
     "text": [
      "c:\\dev\\mlops_course\\.venv\\Lib\\site-packages\\_distutils_hack\\__init__.py:11: UserWarning: Distutils was imported before Setuptools, but importing Setuptools also replaces the `distutils` module in `sys.modules`. This may lead to undesirable behaviors or errors. To avoid these issues, avoid using distutils directly, ensure that setuptools is installed in the traditional way (e.g. not an editable install), and/or make sure that setuptools is always imported before distutils.\n",
      "  warnings.warn(\n",
      "c:\\dev\\mlops_course\\.venv\\Lib\\site-packages\\_distutils_hack\\__init__.py:26: UserWarning: Setuptools is replacing distutils.\n",
      "  warnings.warn(\"Setuptools is replacing distutils.\")\n"
     ]
    }
   ],
   "source": [
    "run_name = \"catboost\"\n",
    "\n",
    "with mlflow.start_run(run_name=run_name) as run:\n",
    "    catboost_model_params = {\n",
    "        \"random_state\": 42,\n",
    "        \"learning_rate\": 0.001,\n",
    "        \"auto_class_weights\": \"Balanced\",\n",
    "        \"verbose\": False,\n",
    "        \"n_estimators\": 500,\n",
    "    }\n",
    "\n",
    "    model_catboost = CatBoostClassifier(**catboost_model_params)\n",
    "    model_catboost.fit(train_features, np.array(train[\"toxic\"]))\n",
    "    predicts = model_catboost.predict(test_features)\n",
    "\n",
    "    metrics = {\n",
    "        \"accuracy\": accuracy_score(np.array(test[\"toxic\"]), predicts),\n",
    "        \"recall\": recall_score(np.array(test[\"toxic\"]), predicts),\n",
    "        \"precision\": precision_score(np.array(test[\"toxic\"]), predicts),\n",
    "        \"roc_auc_score\": roc_auc_score(np.array(test[\"toxic\"]), predicts),\n",
    "    }\n",
    "    for metric_name, metric_value in metrics.items():\n",
    "        mlflow.log_metric(metric_name, metric_value)\n",
    "\n",
    "    mlflow.catboost.log_model(cb_model=model_catboost, artifact_path=f\"mlflow/{run_name}/model\")\n",
    "\n",
    "    fig = conf_matrix(test[\"toxic\"], predicts)\n",
    "    mlflow.log_figure(figure=fig, artifact_file=f\"{run_name}_confusion_matrix.png\")"
   ]
  },
  {
   "cell_type": "code",
   "execution_count": null,
   "metadata": {},
   "outputs": [],
   "source": []
  }
 ],
 "metadata": {
  "kernelspec": {
   "display_name": ".venv",
   "language": "python",
   "name": "python3"
  },
  "language_info": {
   "codemirror_mode": {
    "name": "ipython",
    "version": 3
   },
   "file_extension": ".py",
   "mimetype": "text/x-python",
   "name": "python",
   "nbconvert_exporter": "python",
   "pygments_lexer": "ipython3",
   "version": "3.11.8"
  }
 },
 "nbformat": 4,
 "nbformat_minor": 2
}
